{
 "cells": [
  {
   "cell_type": "markdown",
   "id": "fc3dcf4f",
   "metadata": {},
   "source": [
    "## Use spectral clustering to find clusters in Political blogs dataset "
   ]
  },
  {
   "cell_type": "markdown",
   "id": "6405680a",
   "metadata": {},
   "source": [
    "###  I aim to analyze the network of political blogs using clustering techniques. The network consists of nodes representing individual blogs, with their connections defined in the file \"edges.txt\". I plan to conduct clustering experiments with different values of k (2, 5, 10, and 25) to identify distinct groups within the network.\n",
    "\n",
    "### Once the clusters are formed, I will determine the majority label within each cluster for each value of k. For example, if there are k = 2 clusters with labels {0, 1, 1, 1} and {0, 0, 1}, the majority label for the first cluster would be 1, and for the second cluster, it would be 0.\n",
    "\n",
    "### I can compare the majority label with the individual labels within each cluster and calculate the mismatch rate for each cluster. For instance, in the aforementioned example, the mismatch rate for the first cluster would be 1/4 (as only the first node differs from the majority), and for the second cluster, it would be 1/3.\n",
    "\n",
    "### Through this analysis, I aim to gain insights into the clustering structure of political blogs and understand the degree of consensus or divergence within different clusters across varying k values."
   ]
  },
  {
   "cell_type": "code",
   "execution_count": 36,
   "id": "7ded7ed2",
   "metadata": {},
   "outputs": [],
   "source": [
    "import os\n",
    "import numpy as np\n",
    "from os.path import abspath, exists\n",
    "from scipy import sparse\n",
    "import scipy\n",
    "from sklearn.cluster import KMeans\n",
    "from matplotlib import pyplot as plt\n",
    "from scipy import stats"
   ]
  },
  {
   "cell_type": "code",
   "execution_count": 37,
   "id": "5632f5cd",
   "metadata": {},
   "outputs": [],
   "source": [
    "def read_political_blogs():\n",
    "    # read nodes.txt file\n",
    "    f_path = abspath(\"data/nodes.txt\")\n",
    "    idx2name = []\n",
    "    if exists(f_path):\n",
    "        with open(f_path) as fid:\n",
    "            for line in fid.readlines():\n",
    "                name = line.split(\"\\t\")\n",
    "                idx2name.append(name)\n",
    "    return idx2name\n",
    "def import_graph():\n",
    "    # read the graph from 'play_graph.txt' \n",
    "    f_path = abspath(\"data/edges.txt\")\n",
    "    if exists(f_path):\n",
    "        with open(f_path) as graph_file:\n",
    "            lines = [line.split() for line in graph_file]\n",
    "    return np.array(lines).astype(int)"
   ]
  },
  {
   "cell_type": "code",
   "execution_count": 38,
   "id": "e8d6dfa8",
   "metadata": {},
   "outputs": [],
   "source": [
    "# load the graph\n",
    "a = import_graph()\n",
    "\n",
    "# Pre-processing (1. remove nodes with only self edges)\n",
    "a = a[a[:,0] != a[:,1],]\n",
    "\n",
    "# Pre-processing (2. remove isolated nodes by reindexing)\n",
    "unique_nodes = np.unique(a)\n",
    "index = np.arange(unique_nodes.shape[0]);\n",
    "index_pairs = {}\n",
    "for A, B in zip(unique_nodes, index):\n",
    "    index_pairs[A] = B\n",
    "new_a = np.copy(a)\n",
    "for k, v in index_pairs.items(): new_a[a==k] = v\n",
    "# https://stackoverflow.com/questions/3403973/fast-replacement-of-values-in-a-numpy-array\n",
    "\n",
    "# Load the political blogs and get the true labels\n",
    "political_blog_names = read_political_blogs()\n",
    "true_labels = np.array([line[2] for line in political_blog_names])\n",
    "true_labels = true_labels.astype('int_')\n",
    "true_labels_new = true_labels[unique_nodes-1] # exclude isolated nodes"
   ]
  },
  {
   "cell_type": "code",
   "execution_count": 39,
   "id": "681efe8c",
   "metadata": {},
   "outputs": [],
   "source": [
    "n = max(index) + 1 #1224 nodes\n",
    "i = new_a[:, 0]\n",
    "j = new_a[:, 1]\n",
    "v = np.ones((new_a.shape[0], 1)).flatten()\n",
    "A = sparse.coo_matrix((v, (i, j)), shape=(n, n))\n",
    "A = (A + np.transpose(A))\n",
    "A = sparse.csc_matrix.todense(A) # convert to dense matrix"
   ]
  },
  {
   "cell_type": "code",
   "execution_count": 40,
   "id": "9d721bda",
   "metadata": {},
   "outputs": [
    {
     "data": {
      "text/plain": [
       "(1224, 1224)"
      ]
     },
     "execution_count": 40,
     "metadata": {},
     "output_type": "execute_result"
    }
   ],
   "source": [
    "A.shape"
   ]
  },
  {
   "cell_type": "code",
   "execution_count": 41,
   "id": "de60365c",
   "metadata": {},
   "outputs": [],
   "source": [
    "D = np.diag(np.sum(A, axis=1))\n",
    "L = D - A"
   ]
  },
  {
   "cell_type": "code",
   "execution_count": 42,
   "id": "ad4211aa",
   "metadata": {},
   "outputs": [],
   "source": [
    "# eigendecompoosition\n",
    "lambd, v = np.linalg.eig(L)\n",
    "idx = lambd.argsort()\n",
    "v = v[:, idx]"
   ]
  },
  {
   "cell_type": "code",
   "execution_count": 43,
   "id": "dbf9eed0",
   "metadata": {},
   "outputs": [],
   "source": [
    "import warnings\n",
    "warnings.filterwarnings(\"ignore\")\n",
    "\n",
    "def get_cluster_labels(v,K):   \n",
    "    selected_v = v[:, 0:K].real\n",
    "    kmeans = KMeans(n_clusters=K).fit(selected_v)\n",
    "    idx = kmeans.labels_\n",
    "    return idx"
   ]
  },
  {
   "cell_type": "code",
   "execution_count": 44,
   "id": "899e5fcc",
   "metadata": {},
   "outputs": [
    {
     "name": "stdout",
     "output_type": "stream",
     "text": [
      "k = 2\n",
      "Cluster 0 with 1116 datapoints: mismatch rate 0.430108\n",
      "Cluster 1 with 108 datapoints: mismatch rate 0.000000\n",
      "k = 5\n",
      "Cluster 0 with 101 datapoints: mismatch rate 0.029703\n",
      "Cluster 1 with 64 datapoints: mismatch rate 0.000000\n",
      "Cluster 2 with 836 datapoints: mismatch rate 0.483254\n",
      "Cluster 3 with 90 datapoints: mismatch rate 0.011111\n",
      "Cluster 4 with 133 datapoints: mismatch rate 0.000000\n",
      "k = 10\n",
      "Cluster 0 with 34 datapoints: mismatch rate 0.000000\n",
      "Cluster 1 with 810 datapoints: mismatch rate 0.492593\n",
      "Cluster 2 with 29 datapoints: mismatch rate 0.000000\n",
      "Cluster 3 with 101 datapoints: mismatch rate 0.009901\n",
      "Cluster 4 with 42 datapoints: mismatch rate 0.000000\n",
      "Cluster 5 with 31 datapoints: mismatch rate 0.064516\n",
      "Cluster 6 with 33 datapoints: mismatch rate 0.000000\n",
      "Cluster 7 with 20 datapoints: mismatch rate 0.400000\n",
      "Cluster 8 with 49 datapoints: mismatch rate 0.040816\n",
      "Cluster 9 with 75 datapoints: mismatch rate 0.040000\n",
      "k = 25\n",
      "Cluster 0 with 28 datapoints: mismatch rate 0.000000\n",
      "Cluster 1 with 763 datapoints: mismatch rate 0.484928\n",
      "Cluster 2 with 11 datapoints: mismatch rate 0.000000\n",
      "Cluster 3 with 67 datapoints: mismatch rate 0.000000\n",
      "Cluster 4 with 22 datapoints: mismatch rate 0.454545\n",
      "Cluster 5 with 15 datapoints: mismatch rate 0.000000\n",
      "Cluster 6 with 47 datapoints: mismatch rate 0.000000\n",
      "Cluster 7 with 17 datapoints: mismatch rate 0.000000\n",
      "Cluster 8 with 10 datapoints: mismatch rate 0.100000\n",
      "Cluster 9 with 1 datapoints: mismatch rate 0.000000\n",
      "Cluster 10 with 1 datapoints: mismatch rate 0.000000\n",
      "Cluster 11 with 13 datapoints: mismatch rate 0.000000\n",
      "Cluster 12 with 31 datapoints: mismatch rate 0.000000\n",
      "Cluster 13 with 15 datapoints: mismatch rate 0.066667\n",
      "Cluster 14 with 2 datapoints: mismatch rate 0.000000\n",
      "Cluster 15 with 1 datapoints: mismatch rate 0.000000\n",
      "Cluster 16 with 15 datapoints: mismatch rate 0.000000\n",
      "Cluster 17 with 14 datapoints: mismatch rate 0.142857\n",
      "Cluster 18 with 14 datapoints: mismatch rate 0.000000\n",
      "Cluster 19 with 28 datapoints: mismatch rate 0.000000\n",
      "Cluster 20 with 22 datapoints: mismatch rate 0.000000\n",
      "Cluster 21 with 19 datapoints: mismatch rate 0.000000\n",
      "Cluster 22 with 41 datapoints: mismatch rate 0.073171\n",
      "Cluster 23 with 13 datapoints: mismatch rate 0.000000\n",
      "Cluster 24 with 14 datapoints: mismatch rate 0.071429\n"
     ]
    }
   ],
   "source": [
    "k = [2,5,10,25]\n",
    "for i in k:\n",
    "    idx = get_cluster_labels(v,i)\n",
    "    # get the true labels of each cluster\n",
    "    print(\"k = %d\" % i)\n",
    "    for j in set(idx): \n",
    "        k_j = true_labels_new[idx == j]\n",
    "        m, count = stats.mode(k_j)\n",
    "        n = len(k_j)\n",
    "        mismatch_rate = (k_j != m).sum() / n \n",
    "        print(\"Cluster %d with %d datapoints: mismatch rate %f\" % (j, n, mismatch_rate))"
   ]
  },
  {
   "cell_type": "markdown",
   "id": "029a9f11",
   "metadata": {},
   "source": [
    "## Tune k and find the number of clusters to achieve a reasonably small mismatch rate. "
   ]
  },
  {
   "cell_type": "markdown",
   "id": "8a6f70f6",
   "metadata": {},
   "source": [
    "By running it with a range of k values from 1 to 40, the mismatch rate is high when k is small (less than 4 or 5). It starts to dropped from that depending on the random seed.\n",
    "\n",
    "After running it for different random seeds, I find the lowest mismatch rate is 4.8% at k = 7. The mismatch rate is also better and more stable after normalizing the vectors. \n",
    "\n",
    "This could imply the political blogs with the same political orientation have denser connections compared to the rest of the network. Hence, the mismatch rate didn't change much after increasing the k-values. \n"
   ]
  },
  {
   "cell_type": "code",
   "execution_count": 45,
   "id": "ab822e92",
   "metadata": {},
   "outputs": [],
   "source": [
    "D = np.diag(1/np.sqrt(np.sum(A, axis=1)).A1)\n",
    "L = D @ A @ D\n",
    "L = np.array(L) # covert to array"
   ]
  },
  {
   "cell_type": "code",
   "execution_count": 46,
   "id": "d20644d1",
   "metadata": {},
   "outputs": [
    {
     "data": {
      "text/plain": [
       "(1224, 1224)"
      ]
     },
     "execution_count": 46,
     "metadata": {},
     "output_type": "execute_result"
    }
   ],
   "source": [
    "L.shape"
   ]
  },
  {
   "cell_type": "code",
   "execution_count": 47,
   "id": "1447e2ed",
   "metadata": {},
   "outputs": [],
   "source": [
    "# eigendecompoosition\n",
    "v, x= np.linalg.eig(L)\n",
    "idx_sorted = np.argsort(v) # the index of eigenvalue sorted acsending"
   ]
  },
  {
   "cell_type": "code",
   "execution_count": 48,
   "id": "5eae715c",
   "metadata": {},
   "outputs": [
    {
     "name": "stdout",
     "output_type": "stream",
     "text": [
      "K= 1: mismatch rate 0.480392  (588,1224) \n",
      "K= 2: mismatch rate 0.478758  (586,1224) \n",
      "K= 3: mismatch rate 0.478758  (586,1224) \n",
      "K= 4: mismatch rate 0.053922  (66,1224) \n",
      "K= 5: mismatch rate 0.050654  (62,1224) \n",
      "K= 6: mismatch rate 0.051471  (63,1224) \n",
      "K= 7: mismatch rate 0.048203  (59,1224) \n",
      "K= 8: mismatch rate 0.052288  (64,1224) \n",
      "K= 9: mismatch rate 0.054739  (67,1224) \n",
      "K= 10: mismatch rate 0.061275  (75,1224) \n",
      "K= 11: mismatch rate 0.059641  (73,1224) \n",
      "K= 12: mismatch rate 0.053922  (66,1224) \n",
      "K= 13: mismatch rate 0.061275  (75,1224) \n",
      "K= 14: mismatch rate 0.058824  (72,1224) \n",
      "K= 15: mismatch rate 0.059641  (73,1224) \n",
      "K= 16: mismatch rate 0.058007  (71,1224) \n",
      "K= 17: mismatch rate 0.063725  (78,1224) \n",
      "K= 18: mismatch rate 0.059641  (73,1224) \n",
      "K= 19: mismatch rate 0.063725  (78,1224) \n",
      "K= 20: mismatch rate 0.065359  (80,1224) \n",
      "K= 21: mismatch rate 0.061275  (75,1224) \n",
      "K= 22: mismatch rate 0.062908  (77,1224) \n",
      "K= 23: mismatch rate 0.064542  (79,1224) \n",
      "K= 24: mismatch rate 0.062092  (76,1224) \n",
      "K= 25: mismatch rate 0.066176  (81,1224) \n",
      "K= 26: mismatch rate 0.075163  (92,1224) \n",
      "K= 27: mismatch rate 0.069444  (85,1224) \n",
      "K= 28: mismatch rate 0.069444  (85,1224) \n",
      "K= 29: mismatch rate 0.070261  (86,1224) \n",
      "K= 30: mismatch rate 0.068627  (84,1224) \n",
      "K= 31: mismatch rate 0.064542  (79,1224) \n",
      "K= 32: mismatch rate 0.067810  (83,1224) \n",
      "K= 33: mismatch rate 0.067810  (83,1224) \n",
      "K= 34: mismatch rate 0.066993  (82,1224) \n",
      "K= 35: mismatch rate 0.062908  (77,1224) \n",
      "K= 36: mismatch rate 0.061275  (75,1224) \n",
      "K= 37: mismatch rate 0.066176  (81,1224) \n",
      "K= 38: mismatch rate 0.065359  (80,1224) \n",
      "K= 39: mismatch rate 0.066176  (81,1224) \n",
      "\n",
      " K = 7 with lowest mismatch rate 0.048203\n"
     ]
    }
   ],
   "source": [
    "def get_mode(x):\n",
    "    values, counts = np.unique(x, return_counts=True)\n",
    "    m = counts.argmax()\n",
    "    return values[m], counts[m]\n",
    "\n",
    "# store the overall mismatch rate for different value of k\n",
    "overall_dict = {}\n",
    "# get mismatch rate for k values from 1 to 40\n",
    "for k in range(1,40,1):\n",
    "    x_k = x[:, idx_sorted[-k:]] # select the k largest eigenvectors\n",
    "    x_k = x_k/np.repeat(np.sqrt(np.sum(x_k*x_k, axis=1).reshape(-1, 1)), k, axis=1)\n",
    "    kmeans = KMeans(n_init = 20, n_clusters=k, random_state = 111).fit(x_k.real)\n",
    "    c_idx = kmeans.labels_\n",
    "    # to store the no of mismatched notes/all nodes\n",
    "    rate = [0,0] \n",
    "    for j in set(c_idx): \n",
    "        k_j = true_labels_new[c_idx == j]\n",
    "        m, count = get_mode(k_j) #stats.mode(k_j)\n",
    "        rate[0] += (k_j != m).sum() # no of mismatch\n",
    "        rate[1] += len(k_j) # no of nodes in cluster j\n",
    "#         n = len(k_j)\n",
    "#         mismatch_rate = (k_j != m).sum() / n \n",
    "#         print(\"Cluster %d %d points: mismatch rate %f\" % (j, n, mismatch_rate))\n",
    "\n",
    "    num= rate[0]\n",
    "    den= rate[1]\n",
    "    overall_rate = num/den\n",
    "    overall_dict[k] = overall_rate\n",
    "    print(\"K= %d: mismatch rate %f  (%d,%d) \"  % (k, overall_rate, num,den))\n",
    "\n",
    "print(\"\\n K = %d with lowest mismatch rate %f\" % (min(overall_dict, key=overall_dict.get),min(overall_dict.values())))"
   ]
  }
 ],
 "metadata": {
  "kernelspec": {
   "display_name": "Python 3 (ipykernel)",
   "language": "python",
   "name": "python3"
  },
  "language_info": {
   "codemirror_mode": {
    "name": "ipython",
    "version": 3
   },
   "file_extension": ".py",
   "mimetype": "text/x-python",
   "name": "python",
   "nbconvert_exporter": "python",
   "pygments_lexer": "ipython3",
   "version": "3.11.5"
  }
 },
 "nbformat": 4,
 "nbformat_minor": 5
}
